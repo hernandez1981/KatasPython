{
  "cells": [
    {
      "cell_type": "markdown",
      "metadata": {},
      "source": [
        "# Ejercicio: Uso de funciones en Python"
      ]
    },
    {
      "cell_type": "code",
      "execution_count": 2233,
      "metadata": {},
      "outputs": [],
      "source": [
        "# Función para leer 3 tanques de combustible y muestre el promedio\n",
        "def tanques_combustible(tanque1, tanque2, tanque3):    \n",
        "    total_tanques = tanque1 + tanque2 + tanque3\n",
        "    promedio_total = total_tanques/3     \n",
        "    return f'Tanque 1: {tanque1}, \\nTanque 2: {tanque2}, \\nTanque 3: {tanque3}, \\nTotal: {total_tanques}, \\nPromedio total: {promedio_total}'   \n"
      ]
    },
    {
      "cell_type": "code",
      "execution_count": 2234,
      "metadata": {},
      "outputs": [
        {
          "name": "stdout",
          "output_type": "stream",
          "text": [
            "Tanque 1: 4, \n",
            "Tanque 2: 14, \n",
            "Tanque 3: 18, \n",
            "Total: 36, \n",
            "Promedio total: 12.0\n"
          ]
        }
      ],
      "source": [
        "# Llamamos a la función que genera el reporte print(funcion(tanque1, tanque2, tanque3))\n",
        "print(tanques_combustible(4, 14, 18))"
      ]
    },
    {
      "cell_type": "code",
      "execution_count": 2235,
      "metadata": {},
      "outputs": [
        {
          "data": {
            "text/plain": [
              "'tanques:[30, 20, 9], promedio tanques: 19.666666666666668'"
            ]
          },
          "execution_count": 2235,
          "metadata": {},
          "output_type": "execute_result"
        }
      ],
      "source": [
        "# Función promedio \n",
        "def promedio(tanques):\n",
        "    total_tanques = sum(tanques)        \n",
        "    return f'tanques:{tanques}, promedio tanques: {total_tanques/3}'\n",
        "\n",
        "promedio([30, 20, 9])\n"
      ]
    },
    {
      "cell_type": "code",
      "execution_count": 2236,
      "metadata": {},
      "outputs": [
        {
          "name": "stdout",
          "output_type": "stream",
          "text": [
            "Tanque 1: 20, \n",
            "Tanque 2: 20, \n",
            "Tanque 3: 30, \n",
            "Promedio tanques:[20, 20, 30], promedio tanques: 23.333333333333332\n"
          ]
        }
      ],
      "source": [
        "# Actualiza la función\n",
        "def tanques_combustible(tanque1, tanque2, tanque3):       \n",
        "    return f'Tanque 1: {tanque1}, \\nTanque 2: {tanque2}, \\nTanque 3: {tanque3}, \\nPromedio {promedio([tanque1, tanque2, tanque3])}' \n",
        "\n",
        "# Call the updated function again with different values\n",
        "print(tanques_combustible(20, 20, 30))"
      ]
    },
    {
      "cell_type": "markdown",
      "metadata": {},
      "source": [
        "## Ejercicio 2: Trabajo con argumentos de palabra clave"
      ]
    },
    {
      "cell_type": "code",
      "execution_count": 2237,
      "metadata": {},
      "outputs": [
        {
          "name": "stdout",
          "output_type": "stream",
          "text": [
            "Destino es: Jupiter, \n",
            "Hora de prelanzamiento:20 horas, \n",
            "Duración Vuelo: 60 horas, \n",
            "Total de combustibles cargados: 30000 litros\n"
          ]
        }
      ],
      "source": [
        "# Función con un informe preciso de la misión. Considera hora de prelanzamiento, tiempo de vuelo, destino, tanque externo y tanque interno\n",
        "def informe_mision(prelanzamientohora, tiempoVuelo, destino, tanqueExterno,tanqueInterno):    \n",
        "    return f\"\"\"Destino es: {destino}, \n",
        "Hora de prelanzamiento:{prelanzamientohora} horas, \n",
        "Duración Vuelo: {tiempoVuelo} horas, \n",
        "Total de combustibles cargados: {tanqueExterno + tanqueInterno} litros\"\"\"    \n",
        "\n",
        "print(informe_mision(20, 60, \"Jupiter\", 10000, 20000))\n"
      ]
    },
    {
      "cell_type": "code",
      "execution_count": 2238,
      "metadata": {},
      "outputs": [
        {
          "name": "stdout",
          "output_type": "stream",
          "text": [
            "Destino es: Jupiter, \n",
            "Duración Vuelo: 45 minutos, \n",
            "Total de combustibles cargados: 3500\n"
          ]
        }
      ],
      "source": [
        "# Escribe tu nueva función de reporte considerando lo anterior\n",
        "def informe_mision(destino, *minutes, **fuel_reservoirs):    \n",
        "    return f\"\"\"Destino es: {destino}, \n",
        "Duración Vuelo: {sum(minutes)} minutos, \n",
        "Total de combustibles cargados: {sum(fuel_reservoirs.values())}\"\"\"    \n",
        "\n",
        "print(informe_mision(\"Jupiter\",5, 30,10, tanqueInterno= 3000, tanqueExterno= 500))"
      ]
    },
    {
      "cell_type": "code",
      "execution_count": 2239,
      "metadata": {},
      "outputs": [
        {
          "name": "stdout",
          "output_type": "stream",
          "text": [
            "Destino es: Jupiter, \n",
            "    Duración Vuelo: 45 minutos, \n",
            "    Total de combustibles cargados: 3500('tanqueInterno', 3000)('tanqueExterno', 500)\n"
          ]
        }
      ],
      "source": [
        "# Escribe tu nueva función\n",
        "def informe_mision(destino, *minutes, **fuel_reservoirs):    \n",
        "    resultado = f\"\"\"Destino es: {destino}, \n",
        "    Duración Vuelo: {sum(minutes)} minutos, \n",
        "    Total de combustibles cargados: {sum(fuel_reservoirs.values())}\"\"\"   \n",
        "    for nombreTanque in fuel_reservoirs.items():\n",
        "        resultado  += f\"{nombreTanque}\"\n",
        "    return resultado\n",
        "\n",
        "print(informe_mision(\"Jupiter\",5, 30,10, tanqueInterno= 3000, tanqueExterno= 500))"
      ]
    }
  ],
  "metadata": {
    "interpreter": {
      "hash": "205095b8b86ea82a021a8fc2ffba2b3bc9f8d0be25999901963b225939f75778"
    },
    "kernelspec": {
      "display_name": "Python 3.8.10 64-bit ('tmp': conda)",
      "name": "python3"
    },
    "language_info": {
      "codemirror_mode": {
        "name": "ipython",
        "version": 3
      },
      "file_extension": ".py",
      "mimetype": "text/x-python",
      "name": "python",
      "nbconvert_exporter": "python",
      "pygments_lexer": "ipython3",
      "version": "3.10.2"
    },
    "nteract": {
      "version": "nteract-front-end@1.0.0"
    },
    "orig_nbformat": 4
  },
  "nbformat": 4,
  "nbformat_minor": 2
}
