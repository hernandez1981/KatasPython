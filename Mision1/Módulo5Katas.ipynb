{
 "cells": [
  {
   "cell_type": "markdown",
   "metadata": {},
   "source": [
    "# Ejercicio1 - Utilizar operadores aritméticos"
   ]
  },
  {
   "cell_type": "code",
   "execution_count": 2,
   "metadata": {},
   "outputs": [],
   "source": [
    "# Crear variables para almacenar las dos distancias\n",
    "tierra =  149597870\n",
    "jupiter = 778547200"
   ]
  },
  {
   "cell_type": "code",
   "execution_count": 3,
   "metadata": {},
   "outputs": [
    {
     "name": "stdout",
     "output_type": "stream",
     "text": [
      "Resultado: 628949330 km\n",
      "Km en Millas: 390810874\n"
     ]
    }
   ],
   "source": [
    "# Calcular la distancia entre planetas\n",
    "distancia = jupiter - tierra\n",
    "print ('Resultado:', distancia, 'km')\n",
    "\n",
    "# convertir la distancia del kilómetro en millas\n",
    "distanciaMi = distancia * 0.621371\n",
    "print('Km en Millas:', round(distanciaMi))"
   ]
  },
  {
   "cell_type": "markdown",
   "metadata": {},
   "source": [
    "# Ejercicio 2: convierte cadenas en números y usa valores absolutos"
   ]
  },
  {
   "cell_type": "code",
   "execution_count": 4,
   "metadata": {},
   "outputs": [],
   "source": [
    "# Almacenar las entradas del usuario\n",
    "planeta1 = input(\"Nombre del planeta 1\")\n",
    "distancia1 =input(\"ingresa el numero de distancia 1\")\n",
    "planeta2 = input(\"Nombre del planeta 2\")\n",
    "distancia2 =input(\"ingresa el numero de distancia 2\")\n"
   ]
  },
  {
   "cell_type": "code",
   "execution_count": 5,
   "metadata": {},
   "outputs": [
    {
     "name": "stdout",
     "output_type": "stream",
     "text": [
      "La distancia entre l y 80 es de 19\n"
     ]
    }
   ],
   "source": [
    "# Convierte las cadenas de ambos planetas a números enteros\n",
    "# Realizar el cálculo y determinar el valor absoluto\n",
    "distanciaP = abs( int(distancia1) - int(distancia2) )\n",
    "\n",
    "\n",
    "# Convertir de KM a Millas\n",
    "plantilla = 'La distancia entre {0} y {1} es de {2}'.format(planeta1, planeta2, round(distanciaP * 0.621371))\n",
    "print(plantilla) \n"
   ]
  }
 ],
 "metadata": {
  "interpreter": {
   "hash": "5d8d5dead9e5a2ff2f4efd18e261e72211752190411afba672777640524d6334"
  },
  "kernelspec": {
   "display_name": "Python 3.10.2 64-bit",
   "language": "python",
   "name": "python3"
  },
  "language_info": {
   "codemirror_mode": {
    "name": "ipython",
    "version": 3
   },
   "file_extension": ".py",
   "mimetype": "text/x-python",
   "name": "python",
   "nbconvert_exporter": "python",
   "pygments_lexer": "ipython3",
   "version": "3.10.2"
  },
  "orig_nbformat": 4
 },
 "nbformat": 4,
 "nbformat_minor": 2
}
