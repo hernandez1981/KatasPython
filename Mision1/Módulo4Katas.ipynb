{
 "cells": [
  {
   "cell_type": "markdown",
   "metadata": {},
   "source": [
    "# Ejercicio 1: Transformar cadenas"
   ]
  },
  {
   "cell_type": "code",
   "execution_count": 499,
   "metadata": {},
   "outputs": [],
   "source": [
    "# Dividir el texto en cada oración\n",
    "\n",
    "text = \"\"\"Interesting facts about the Moon. The Moon is Earth's only satellite. There are several interesting facts about the Moon and how it affects life here on Earth. \n",
    "On average, the Moon moves 4cm away from the Earth every year. This yearly drift is not significant enough to cause immediate effects on Earth. The highest daylight temperature of the Moon is 127 C.\"\"\"\n",
    "oraciones= text.split('.')"
   ]
  },
  {
   "cell_type": "code",
   "execution_count": 500,
   "metadata": {},
   "outputs": [],
   "source": [
    "# Palabras clave para búsqueda: average, temperature y distance suenan bien\n",
    "palabrasClaves = ['average', 'temperature', 'y distance suenan bien']"
   ]
  },
  {
   "cell_type": "code",
   "execution_count": 501,
   "metadata": {},
   "outputs": [
    {
     "name": "stdout",
     "output_type": "stream",
     "text": [
      " \n",
      "On average, the Moon moves 4cm away from the Earth every year\n",
      " The highest daylight temperature of the Moon is 127 C\n"
     ]
    }
   ],
   "source": [
    "# Ciclo for\n",
    "#imprimir solo datos sobre la Luna que estén relacionados con las palabras clave definidas anteriormente:\n",
    "\n",
    "for oracion in oraciones:\n",
    "    for palabraClave in palabrasClaves:\n",
    "        if oracion.find(palabraClave) > 0:\n",
    "            print(oracion)\n",
    "            break"
   ]
  },
  {
   "cell_type": "code",
   "execution_count": 502,
   "metadata": {},
   "outputs": [
    {
     "name": "stdout",
     "output_type": "stream",
     "text": [
      " \n",
      "On average, the Moon moves 4cm away from the Earth every year\n",
      " The highest daylight temperature of the Moon is 127 Celsius\n"
     ]
    }
   ],
   "source": [
    "# actualiza el bucle(ciclo) para cambiar _C_ a _Celsius_:\n",
    "for oracion in oraciones:\n",
    "    for palabraClave in palabrasClaves:\n",
    "        if oracion.find(palabraClave) > 0:\n",
    "            if oracion.endswith(' C'):                \n",
    "                print(oracion.replace(' C', ' Celsius'))\n",
    "            else:                \n",
    "                print(oracion)\n",
    "            break"
   ]
  },
  {
   "cell_type": "markdown",
   "metadata": {},
   "source": [
    "# Ejercicio 2: Formateando Cadenas"
   ]
  },
  {
   "cell_type": "code",
   "execution_count": 503,
   "metadata": {},
   "outputs": [],
   "source": [
    "# Datos \n",
    "name = \"Moon\"\n",
    "gravity = 0.00162 # in kms\n",
    "planet = \"Earth\"\n",
    "\n",
    "# Crear el titulo\n",
    "titulo = ('gravity facts about %s and' %planet + ' %s' %name).title()"
   ]
  },
  {
   "cell_type": "code",
   "execution_count": 504,
   "metadata": {},
   "outputs": [
    {
     "name": "stdout",
     "output_type": "stream",
     "text": [
      "Nombre del planeta: earth\n",
      "la gravedad en moon es: 1.6199999999999999 m/s2 \n"
     ]
    }
   ],
   "source": [
    "# Ahora crea una plantilla de cadena multilínea para contener el resto de la información. \n",
    "# En lugar de usar kilómetros, debes convertir la distancia a metros multiplicando por 1,000.\n",
    "multilinea =\"\"\"Nombre del planeta: {0}\n",
    "la gravedad en {1} es: {2} m/s2 \"\"\".format(planet, name, gravity*1000 )\n",
    "\n",
    "print(multilinea)"
   ]
  },
  {
   "cell_type": "code",
   "execution_count": 505,
   "metadata": {},
   "outputs": [
    {
     "name": "stdout",
     "output_type": "stream",
     "text": [
      "Gravity Facts About Earth And Moon\n",
      "Nombre del planeta: earth\n",
      "la gravedad en moon es: 1.6199999999999999 m/s2 \n"
     ]
    }
   ],
   "source": [
    "# Unión de ambas cadenas(titulo y los hechos)\n",
    "datos = [titulo, multilinea]\n",
    "print('\\n'.join(datos))"
   ]
  },
  {
   "cell_type": "code",
   "execution_count": 506,
   "metadata": {},
   "outputs": [
    {
     "name": "stdout",
     "output_type": "stream",
     "text": [
      "Gravity Facts About Earth And Moon\n",
      "Nombre del planeta: earth\n",
      "la gravedad en moon es: 1.6199999999999999 m/s2 \n"
     ]
    }
   ],
   "source": [
    "# Diferentes datos\n",
    "planet = 'Marte '\n",
    "gravity  = 0.00143\n",
    "name = 'Ganímedes'\n",
    "print('\\n'.join(datos))\n"
   ]
  },
  {
   "cell_type": "code",
   "execution_count": 507,
   "metadata": {},
   "outputs": [
    {
     "name": "stdout",
     "output_type": "stream",
     "text": [
      "Nombre del planeta: Marte \n",
      "la gravedad en Ganímedes es: 1.4300000000000002 m/s2 \n"
     ]
    }
   ],
   "source": [
    "#Nueva plantilla\n",
    "multilineaN =\"\"\"Nombre del planeta: {planet}\n",
    "la gravedad en {name} es: {gravity} m/s2 \"\"\".format(planet=planet, name = name, gravity= gravity*1000)\n",
    "print(multilineaN)"
   ]
  },
  {
   "cell_type": "code",
   "execution_count": 508,
   "metadata": {},
   "outputs": [
    {
     "name": "stdout",
     "output_type": "stream",
     "text": [
      "Gravity Facts About Marte  And Ganímedes\n",
      "Nombre del planeta: Marte \n",
      "la gravedad en Ganímedes es: 1.4300000000000002 m/s2 \n"
     ]
    }
   ],
   "source": [
    "# Pista: print(nueva_plantilla.format(variables))\n",
    "titulo = ('gravity facts about %s and' %planet + ' %s' %name).title()\n",
    "\n",
    "hechos = [titulo, multilineaN]\n",
    "print('\\n'.join(hechos))\n"
   ]
  }
 ],
 "metadata": {
  "interpreter": {
   "hash": "5d8d5dead9e5a2ff2f4efd18e261e72211752190411afba672777640524d6334"
  },
  "kernelspec": {
   "display_name": "Python 3.10.2 64-bit",
   "language": "python",
   "name": "python3"
  },
  "language_info": {
   "codemirror_mode": {
    "name": "ipython",
    "version": 3
   },
   "file_extension": ".py",
   "mimetype": "text/x-python",
   "name": "python",
   "nbconvert_exporter": "python",
   "pygments_lexer": "ipython3",
   "version": "3.10.2"
  },
  "orig_nbformat": 4
 },
 "nbformat": 4,
 "nbformat_minor": 2
}
